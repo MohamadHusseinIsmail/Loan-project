{
  "nbformat": 4,
  "nbformat_minor": 0,
  "metadata": {
    "colab": {
      "private_outputs": true,
      "provenance": [],
      "authorship_tag": "ABX9TyMotrnLxepV7Gt9US7z4ryf",
      "include_colab_link": true
    },
    "kernelspec": {
      "name": "python3",
      "display_name": "Python 3"
    },
    "language_info": {
      "name": "python"
    }
  },
  "cells": [
    {
      "cell_type": "markdown",
      "metadata": {
        "id": "view-in-github",
        "colab_type": "text"
      },
      "source": [
        "<a href=\"https://colab.research.google.com/github/MohamadHusseinIsmail/Loan-project/blob/main/loan_project.ipynb\" target=\"_parent\"><img src=\"https://colab.research.google.com/assets/colab-badge.svg\" alt=\"Open In Colab\"/></a>"
      ]
    },
    {
      "cell_type": "code",
      "execution_count": null,
      "metadata": {
        "id": "71OgPw1kvFb2"
      },
      "outputs": [],
      "source": [
        "import pandas as pd\n",
        "import numpy as np\n",
        "import matplotlib.pyplot as plt\n",
        "%matplotlib inline\n"
      ]
    },
    {
      "cell_type": "code",
      "source": [
        "dataset=pd.read_csv(\"/content/loan dataset future.csv\")"
      ],
      "metadata": {
        "id": "57sczIaevj_4"
      },
      "execution_count": null,
      "outputs": []
    },
    {
      "cell_type": "code",
      "source": [
        "dataset.head()"
      ],
      "metadata": {
        "id": "gpuJixNcwZEt"
      },
      "execution_count": null,
      "outputs": []
    },
    {
      "cell_type": "code",
      "source": [
        "dataset.shape"
      ],
      "metadata": {
        "id": "QAnT2zJSwiTh"
      },
      "execution_count": null,
      "outputs": []
    },
    {
      "cell_type": "code",
      "source": [
        "dataset.info(3)"
      ],
      "metadata": {
        "id": "2aTsZaa4wowF"
      },
      "execution_count": null,
      "outputs": []
    },
    {
      "cell_type": "code",
      "source": [
        "dataset.describe()"
      ],
      "metadata": {
        "id": "bmFOnoLmwrcQ"
      },
      "execution_count": null,
      "outputs": []
    },
    {
      "cell_type": "code",
      "source": [
        "pd.crosstab(dataset['Credit_History'], dataset['Loan_Status'],margins=True )"
      ],
      "metadata": {
        "id": "ntFj9i34wyG0"
      },
      "execution_count": null,
      "outputs": []
    },
    {
      "cell_type": "code",
      "source": [
        "dataset.boxplot(column=\"ApplicantIncome\")"
      ],
      "metadata": {
        "id": "0ZvdZXCOxNte"
      },
      "execution_count": null,
      "outputs": []
    },
    {
      "cell_type": "code",
      "source": [
        "dataset[\"ApplicantIncome\"].hist(bins=20)"
      ],
      "metadata": {
        "id": "42D0O_HAxoRF"
      },
      "execution_count": null,
      "outputs": []
    },
    {
      "cell_type": "code",
      "source": [
        "dataset.boxplot(column=\"ApplicantIncome\",by=\"Education\")"
      ],
      "metadata": {
        "id": "Ju-YwO0Jx2pF"
      },
      "execution_count": null,
      "outputs": []
    },
    {
      "cell_type": "code",
      "source": [
        "dataset.boxplot(column=\"LoanAmount\")"
      ],
      "metadata": {
        "id": "dU2cOdpHzvEk"
      },
      "execution_count": null,
      "outputs": []
    },
    {
      "cell_type": "code",
      "source": [
        "dataset[\"LoanAmount\"].hist(bins=20)"
      ],
      "metadata": {
        "id": "q5mwkhtgz3Hy"
      },
      "execution_count": null,
      "outputs": []
    },
    {
      "cell_type": "code",
      "source": [
        "dataset[\"LoanAmount_log\"]=np.log(dataset['LoanAmount'])\n",
        "dataset[\"LoanAmount_log\"].hist(bins=20)"
      ],
      "metadata": {
        "id": "bbwptIfuz_US"
      },
      "execution_count": null,
      "outputs": []
    },
    {
      "cell_type": "code",
      "source": [
        "dataset.isnull().sum()"
      ],
      "metadata": {
        "id": "1rJAwv0k0ef7"
      },
      "execution_count": null,
      "outputs": []
    },
    {
      "cell_type": "code",
      "source": [
        "dataset['Gender'].fillna(dataset['Gender'].mode(),inplace= True  )\n"
      ],
      "metadata": {
        "id": "V1gdhdEv15II"
      },
      "execution_count": null,
      "outputs": []
    },
    {
      "cell_type": "code",
      "source": [
        "dataset['Married'].fillna(dataset['Married'].mode(),inplace= True  )\n"
      ],
      "metadata": {
        "id": "pdfnoBXe2M8f"
      },
      "execution_count": null,
      "outputs": []
    },
    {
      "cell_type": "code",
      "source": [
        "dataset['Dependents'].fillna(dataset['Dependents'].mode()[0],inplace= True  )\n"
      ],
      "metadata": {
        "id": "fqQ5fPIR2Ubf"
      },
      "execution_count": null,
      "outputs": []
    },
    {
      "cell_type": "code",
      "source": [
        "dataset['Self_Employed'].fillna(dataset['Self_Employed'].mode()[0],inplace= True  )\n"
      ],
      "metadata": {
        "id": "_us8EPUc2blA"
      },
      "execution_count": null,
      "outputs": []
    },
    {
      "cell_type": "code",
      "source": [
        "dataset['Loan_Amount_Term'].fillna(dataset['Loan_Amount_Term'].mode(),inplace= True  )\n"
      ],
      "metadata": {
        "id": "wKVlytMd26TB"
      },
      "execution_count": null,
      "outputs": []
    },
    {
      "cell_type": "code",
      "source": [
        "#We stopped at 22:00"
      ],
      "metadata": {
        "id": "z7nlzhpd4HBo"
      },
      "execution_count": null,
      "outputs": []
    },
    {
      "cell_type": "code",
      "source": [
        "dataset['Credit_History'].fillna(dataset['Credit_History'].mode(),inplace=True)"
      ],
      "metadata": {
        "id": "oIY0fwTgvPGu"
      },
      "execution_count": null,
      "outputs": []
    },
    {
      "cell_type": "code",
      "source": [
        "dataset.isnull().sum()"
      ],
      "metadata": {
        "id": "TfzeeQNSw85U"
      },
      "execution_count": null,
      "outputs": []
    },
    {
      "cell_type": "code",
      "source": [
        "dataset['TotalIncome']=dataset['ApplicantIncome']+dataset['CoapplicantIncome']\n",
        "dataset['TotalIncome_log']=np.log(dataset['TotalIncome'])"
      ],
      "metadata": {
        "id": "LgEBrg921BeP"
      },
      "execution_count": null,
      "outputs": []
    },
    {
      "cell_type": "code",
      "source": [
        "dataset['TotalIncome_log'].hist(bins=20)"
      ],
      "metadata": {
        "id": "Xh0y19QpBs27"
      },
      "execution_count": null,
      "outputs": []
    },
    {
      "cell_type": "code",
      "source": [
        "dataset.head()"
      ],
      "metadata": {
        "id": "3L9OxL83B7S9"
      },
      "execution_count": null,
      "outputs": []
    },
    {
      "cell_type": "code",
      "source": [
        "X=dataset.iloc[:,np.r_[1:5,9:11,13:15]].values\n",
        "y=dataset.iloc[:,12].values"
      ],
      "metadata": {
        "id": "FFyeKi8KB_Oi"
      },
      "execution_count": null,
      "outputs": []
    },
    {
      "cell_type": "code",
      "source": [
        "X"
      ],
      "metadata": {
        "id": "Hme46qYtCRzN"
      },
      "execution_count": null,
      "outputs": []
    },
    {
      "cell_type": "code",
      "source": [
        "y"
      ],
      "metadata": {
        "id": "jtCQy8_QCtag"
      },
      "execution_count": null,
      "outputs": []
    },
    {
      "cell_type": "code",
      "source": [
        "from sklearn.model_selection import train_test_split"
      ],
      "metadata": {
        "id": "evjxAheoJ9Hc"
      },
      "execution_count": null,
      "outputs": []
    },
    {
      "cell_type": "code",
      "source": [
        "X_train, X_test, y_train, y_test=train_test_split(X,y,test_size=0.2,random_state=0)\n"
      ],
      "metadata": {
        "id": "D8F7qivvLdsi"
      },
      "execution_count": null,
      "outputs": []
    },
    {
      "cell_type": "code",
      "source": [
        "print(X_train)"
      ],
      "metadata": {
        "id": "3VymGT1_LrVj"
      },
      "execution_count": null,
      "outputs": []
    },
    {
      "cell_type": "code",
      "source": [
        "from sklearn.preprocessing import LabelEncoder"
      ],
      "metadata": {
        "id": "mubx2_jbMGeT"
      },
      "execution_count": null,
      "outputs": []
    },
    {
      "cell_type": "code",
      "source": [
        "LabelEncoder_X=LabelEncoder()"
      ],
      "metadata": {
        "id": "ULCM9PehMRNm"
      },
      "execution_count": null,
      "outputs": []
    },
    {
      "cell_type": "code",
      "source": [
        "for i in range(0,5):\n",
        "  X_train[:,i]=LabelEncoder_X.fit_transform(X_train[:,i])"
      ],
      "metadata": {
        "id": "gtydcipSMWt9"
      },
      "execution_count": null,
      "outputs": []
    },
    {
      "cell_type": "code",
      "source": [
        "X_train[:,7]=LabelEncoder_X.fit_transform(X_train[:,7])"
      ],
      "metadata": {
        "id": "UH0N8zNkMaho"
      },
      "execution_count": null,
      "outputs": []
    },
    {
      "cell_type": "code",
      "source": [
        "X_train"
      ],
      "metadata": {
        "id": "oiLg6GwlNSJL"
      },
      "execution_count": null,
      "outputs": []
    },
    {
      "cell_type": "code",
      "source": [
        "LabelEncoder_y=LabelEncoder()"
      ],
      "metadata": {
        "id": "x5nl0H7rNV-r"
      },
      "execution_count": null,
      "outputs": []
    },
    {
      "cell_type": "code",
      "source": [
        "y_train=LabelEncoder_y.fit_transform(y_train)"
      ],
      "metadata": {
        "id": "s2MB1QPUNehM"
      },
      "execution_count": null,
      "outputs": []
    },
    {
      "cell_type": "code",
      "source": [
        "y_train"
      ],
      "metadata": {
        "id": "vOGRNGbpNrlF"
      },
      "execution_count": null,
      "outputs": []
    },
    {
      "cell_type": "code",
      "source": [
        "for i in range(0,5):\n",
        "  X_test[:,i]=LabelEncoder_X.fit_transform(X_test[:,i])"
      ],
      "metadata": {
        "id": "VYSsFqeKN2qS"
      },
      "execution_count": null,
      "outputs": []
    },
    {
      "cell_type": "code",
      "source": [
        "X_test[:,7]=LabelEncoder_X.fit_transform(X_test[:,7])"
      ],
      "metadata": {
        "id": "2kdHYkAEOHyD"
      },
      "execution_count": null,
      "outputs": []
    },
    {
      "cell_type": "code",
      "source": [
        "X_test"
      ],
      "metadata": {
        "id": "h48aZh-1LWus"
      },
      "execution_count": null,
      "outputs": []
    },
    {
      "cell_type": "code",
      "source": [
        "y_test"
      ],
      "metadata": {
        "id": "yE8ym3xvLa2s"
      },
      "execution_count": null,
      "outputs": []
    },
    {
      "cell_type": "code",
      "source": [
        "from sklearn.preprocessing import StandardScaler\n"
      ],
      "metadata": {
        "id": "XAvfnO-8N5L0"
      },
      "execution_count": null,
      "outputs": []
    },
    {
      "cell_type": "code",
      "source": [
        "ss=StandardScaler()\n",
        "X_train=ss.fit_transform( X_train)\n",
        "X_test=ss.fit_transform(X_test)"
      ],
      "metadata": {
        "id": "4MZ785Qzo2sn"
      },
      "execution_count": null,
      "outputs": []
    },
    {
      "cell_type": "code",
      "source": [],
      "metadata": {
        "id": "b-hlGFIH8WY1"
      },
      "execution_count": null,
      "outputs": []
    },
    {
      "cell_type": "code",
      "source": [
        "y_test"
      ],
      "metadata": {
        "id": "8WEjrCDsrAGw"
      },
      "execution_count": null,
      "outputs": []
    },
    {
      "cell_type": "code",
      "source": [
        "from sklearn.tree import DecisionTreeClassifier\n",
        "DecisionTreeClassifier=DecisionTreeClassifier(criterion='entropy', random_state=0)\n",
        "DecisionTreeClassifier.fit(X_train,y_train)"
      ],
      "metadata": {
        "id": "Y0SxGUWyrQ6v"
      },
      "execution_count": null,
      "outputs": []
    },
    {
      "cell_type": "code",
      "source": [
        "y_pred=DecisionTreeClassifier.predict(X_test)\n",
        "y_pred"
      ],
      "metadata": {
        "id": "pTpLRJ1RsJbR"
      },
      "execution_count": null,
      "outputs": []
    },
    {
      "cell_type": "code",
      "source": [
        "from sklearn import metrics\n"
      ],
      "metadata": {
        "id": "9KlEz7PhtXpx"
      },
      "execution_count": null,
      "outputs": []
    },
    {
      "cell_type": "code",
      "source": [
        "print(\"The accuracy of decision tree is :\",metrics.accuracy_score(y_pred,y_test))"
      ],
      "metadata": {
        "id": "kcboQ7xPKUEq"
      },
      "execution_count": null,
      "outputs": []
    },
    {
      "cell_type": "markdown",
      "source": [],
      "metadata": {
        "id": "PDHV-iypuJ30"
      }
    }
  ]
}